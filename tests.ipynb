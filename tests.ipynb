{
 "cells": [
  {
   "cell_type": "code",
   "outputs": [],
   "source": [
    "import requests\n",
    "\n",
    "URL = \"http://127.0.0.1:8000/api/policy/evaluate/\"\n",
    "policy_ids = [\"policy:1\", \"policy:2\", \"policy:3\"]  # Lista de políticas de tu demo\n",
    "\n",
    "for policy_id in policy_ids:\n",
    "    response = requests.get(URL + policy_id)\n",
    "    print(f\"Evaluated {policy_id}: {response.status_code} - {response.text}\")\n"
   ],
   "metadata": {
    "collapsed": false
   },
   "id": "51dae4b65d713c60"
  },
  {
   "cell_type": "code",
   "outputs": [],
   "source": [
    "import matplotlib.pyplot as plt\n",
    "\n",
    "requests = range(1, 11)\n",
    "response_times = [0.12, 0.15, 0.10, 0.20, 0.18, 0.14, 0.16, 0.13, 0.11, 0.17]\n",
    "\n",
    "plt.plot(requests, response_times, marker='o', color='b')\n",
    "plt.title(\"Tiempos de respuesta de la API\")\n",
    "plt.xlabel(\"Número de petición\")\n",
    "plt.ylabel(\"Tiempo (s)\")\n",
    "plt.grid()\n",
    "plt.show()\n"
   ],
   "metadata": {
    "collapsed": true
   },
   "id": "initial_id",
   "execution_count": 0
  }
 ],
 "metadata": {
  "kernelspec": {
   "display_name": "Python 3",
   "language": "python",
   "name": "python3"
  },
  "language_info": {
   "codemirror_mode": {
    "name": "ipython",
    "version": 2
   },
   "file_extension": ".py",
   "mimetype": "text/x-python",
   "name": "python",
   "nbconvert_exporter": "python",
   "pygments_lexer": "ipython2",
   "version": "2.7.6"
  }
 },
 "nbformat": 4,
 "nbformat_minor": 5
}
